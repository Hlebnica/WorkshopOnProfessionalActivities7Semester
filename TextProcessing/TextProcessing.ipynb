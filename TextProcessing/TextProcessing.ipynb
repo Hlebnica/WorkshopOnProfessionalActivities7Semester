{
 "cells": [
  {
   "cell_type": "code",
   "execution_count": 58,
   "metadata": {},
   "outputs": [],
   "source": [
    "import numpy as np\n",
    "import pandas as pd\n",
    "\n",
    "from sklearn.preprocessing import LabelEncoder\n",
    "from sklearn.preprocessing import OneHotEncoder\n",
    "\n",
    "import re \n",
    "import nltk\n",
    "from nltk.corpus import stopwords\n",
    "from nltk.stem import PorterStemmer\n",
    "\n",
    "import keras\n",
    "from keras.preprocessing.text import one_hot\n",
    "from keras.preprocessing.sequence import pad_sequences\n",
    "from keras.models import Sequential\n",
    "from keras.layers import Embedding\n",
    "from keras.layers import LSTM\n",
    "from keras.layers import Dense\n",
    "from keras.layers import Dropout\n",
    "from keras.optimizers import Adam\n"
   ]
  },
  {
   "cell_type": "code",
   "execution_count": 59,
   "metadata": {},
   "outputs": [],
   "source": [
    "# импорт данных\n",
    "test_data = pd.read_csv(\"./input/test.txt\", header=None, sep=\";\", names=[\"Comment\",\"Emotion\"], encoding=\"utf-8\")\n",
    "train_data = pd.read_csv(\"./input/train.txt\", header=None, sep=\";\", names=[\"Comment\",\"Emotion\"], encoding=\"utf-8\")\n",
    "validation_data = pd.read_csv(\"./input/val.txt\", header=None, sep=\";\", names=[\"Comment\",\"Emotion\"], encoding=\"utf-8\")"
   ]
  },
  {
   "cell_type": "code",
   "execution_count": 60,
   "metadata": {},
   "outputs": [
    {
     "name": "stdout",
     "output_type": "stream",
     "text": [
      "Train :  (16000, 2)\n",
      "Test :  (2000, 2)\n",
      "Validation :  (2000, 2)\n"
     ]
    }
   ],
   "source": [
    "print(\"Train : \", train_data.shape)\n",
    "print(\"Test : \", test_data.shape)\n",
    "print(\"Validation : \", validation_data.shape)"
   ]
  },
  {
   "cell_type": "code",
   "execution_count": 61,
   "metadata": {},
   "outputs": [
    {
     "name": "stdout",
     "output_type": "stream",
     "text": [
      "Class names: ['sadness', 'anger', 'love', 'surprise', 'fear', 'joy']\n"
     ]
    }
   ],
   "source": [
    "print(\"Class names:\",  train_data[\"Emotion\"].unique().tolist())"
   ]
  },
  {
   "cell_type": "code",
   "execution_count": 62,
   "metadata": {},
   "outputs": [
    {
     "data": {
      "text/html": [
       "<div>\n",
       "<style scoped>\n",
       "    .dataframe tbody tr th:only-of-type {\n",
       "        vertical-align: middle;\n",
       "    }\n",
       "\n",
       "    .dataframe tbody tr th {\n",
       "        vertical-align: top;\n",
       "    }\n",
       "\n",
       "    .dataframe thead th {\n",
       "        text-align: right;\n",
       "    }\n",
       "</style>\n",
       "<table border=\"1\" class=\"dataframe\">\n",
       "  <thead>\n",
       "    <tr style=\"text-align: right;\">\n",
       "      <th></th>\n",
       "      <th>Comment</th>\n",
       "      <th>Emotion</th>\n",
       "    </tr>\n",
       "  </thead>\n",
       "  <tbody>\n",
       "    <tr>\n",
       "      <th>0</th>\n",
       "      <td>i didnt feel humiliated</td>\n",
       "      <td>sadness</td>\n",
       "    </tr>\n",
       "    <tr>\n",
       "      <th>1</th>\n",
       "      <td>i can go from feeling so hopeless to so damned...</td>\n",
       "      <td>sadness</td>\n",
       "    </tr>\n",
       "    <tr>\n",
       "      <th>2</th>\n",
       "      <td>im grabbing a minute to post i feel greedy wrong</td>\n",
       "      <td>anger</td>\n",
       "    </tr>\n",
       "    <tr>\n",
       "      <th>3</th>\n",
       "      <td>i am ever feeling nostalgic about the fireplac...</td>\n",
       "      <td>love</td>\n",
       "    </tr>\n",
       "    <tr>\n",
       "      <th>4</th>\n",
       "      <td>i am feeling grouchy</td>\n",
       "      <td>anger</td>\n",
       "    </tr>\n",
       "  </tbody>\n",
       "</table>\n",
       "</div>"
      ],
      "text/plain": [
       "                                             Comment  Emotion\n",
       "0                            i didnt feel humiliated  sadness\n",
       "1  i can go from feeling so hopeless to so damned...  sadness\n",
       "2   im grabbing a minute to post i feel greedy wrong    anger\n",
       "3  i am ever feeling nostalgic about the fireplac...     love\n",
       "4                               i am feeling grouchy    anger"
      ]
     },
     "execution_count": 62,
     "metadata": {},
     "output_type": "execute_result"
    }
   ],
   "source": [
    "train_data.head()"
   ]
  },
  {
   "cell_type": "code",
   "execution_count": 63,
   "metadata": {},
   "outputs": [],
   "source": [
    "# Преобразование \"Emotion\" в числовой формат с использованием LabelEncoder\n",
    "lb = LabelEncoder()\n",
    "train_data[\"Emotion\"] = lb.fit_transform(train_data[\"Emotion\"])\n",
    "test_data[\"Emotion\"] = lb.fit_transform(test_data[\"Emotion\"])\n",
    "validation_data[\"Emotion\"] = lb.fit_transform(validation_data[\"Emotion\"])"
   ]
  },
  {
   "cell_type": "code",
   "execution_count": 64,
   "metadata": {},
   "outputs": [
    {
     "data": {
      "text/html": [
       "<div>\n",
       "<style scoped>\n",
       "    .dataframe tbody tr th:only-of-type {\n",
       "        vertical-align: middle;\n",
       "    }\n",
       "\n",
       "    .dataframe tbody tr th {\n",
       "        vertical-align: top;\n",
       "    }\n",
       "\n",
       "    .dataframe thead th {\n",
       "        text-align: right;\n",
       "    }\n",
       "</style>\n",
       "<table border=\"1\" class=\"dataframe\">\n",
       "  <thead>\n",
       "    <tr style=\"text-align: right;\">\n",
       "      <th></th>\n",
       "      <th>Comment</th>\n",
       "      <th>Emotion</th>\n",
       "    </tr>\n",
       "  </thead>\n",
       "  <tbody>\n",
       "    <tr>\n",
       "      <th>0</th>\n",
       "      <td>i didnt feel humiliated</td>\n",
       "      <td>4</td>\n",
       "    </tr>\n",
       "    <tr>\n",
       "      <th>1</th>\n",
       "      <td>i can go from feeling so hopeless to so damned...</td>\n",
       "      <td>4</td>\n",
       "    </tr>\n",
       "    <tr>\n",
       "      <th>2</th>\n",
       "      <td>im grabbing a minute to post i feel greedy wrong</td>\n",
       "      <td>0</td>\n",
       "    </tr>\n",
       "    <tr>\n",
       "      <th>3</th>\n",
       "      <td>i am ever feeling nostalgic about the fireplac...</td>\n",
       "      <td>3</td>\n",
       "    </tr>\n",
       "    <tr>\n",
       "      <th>4</th>\n",
       "      <td>i am feeling grouchy</td>\n",
       "      <td>0</td>\n",
       "    </tr>\n",
       "  </tbody>\n",
       "</table>\n",
       "</div>"
      ],
      "text/plain": [
       "                                             Comment  Emotion\n",
       "0                            i didnt feel humiliated        4\n",
       "1  i can go from feeling so hopeless to so damned...        4\n",
       "2   im grabbing a minute to post i feel greedy wrong        0\n",
       "3  i am ever feeling nostalgic about the fireplac...        3\n",
       "4                               i am feeling grouchy        0"
      ]
     },
     "execution_count": 64,
     "metadata": {},
     "output_type": "execute_result"
    }
   ],
   "source": [
    "train_data.head()"
   ]
  },
  {
   "cell_type": "code",
   "execution_count": 65,
   "metadata": {},
   "outputs": [
    {
     "name": "stdout",
     "output_type": "stream",
     "text": [
      "Class names: [4, 0, 3, 5, 1, 2]\n"
     ]
    }
   ],
   "source": [
    "print(\"Class names:\",  train_data[\"Emotion\"].unique().tolist())"
   ]
  },
  {
   "cell_type": "code",
   "execution_count": 66,
   "metadata": {},
   "outputs": [
    {
     "name": "stderr",
     "output_type": "stream",
     "text": [
      "[nltk_data] Error loading stopwords: <urlopen error [Errno -3]\n",
      "[nltk_data]     Temporary failure in name resolution>\n"
     ]
    }
   ],
   "source": [
    "vocab_size = 10000 # размер словаря (количество уникальных слов при обучении)\n",
    "len_sentence = 150 # длина предложений\n",
    "\n",
    "nltk.download('stopwords')\n",
    "stopwords = set(nltk.corpus.stopwords.words('english')) # стоп слова"
   ]
  },
  {
   "cell_type": "code",
   "execution_count": 67,
   "metadata": {},
   "outputs": [],
   "source": [
    "# Предобработка текста\n",
    "def text_prepare(data, column):\n",
    "    print(data.shape)\n",
    "    stemmer = PorterStemmer()\n",
    "    corpus = []\n",
    "    \n",
    "    for text in data[column]:\n",
    "        text = re.sub(\"[^a-zA-Z]\", \" \", text) # удалить все символы, кроме букв.\n",
    "        \n",
    "        text = text.lower()\n",
    "        text = text.split()\n",
    "        \n",
    "        text = [stemmer.stem(word) for word in text if word not in stopwords] # применить стемминг (привести слово к основной форме) и удалить стоп-слова\n",
    "        text = \" \".join(text)\n",
    "        \n",
    "        corpus.append(text)\n",
    "    one_hot_word = [one_hot(input_text=word, n=vocab_size) for word in corpus] # кодирование слов в числовой формат\n",
    "    embeddec_doc = pad_sequences(sequences=one_hot_word,\n",
    "                              maxlen=len_sentence,\n",
    "                              padding=\"pre\") # обрезка последовательностей до фиксированной длины\n",
    "    print(data.shape)\n",
    "    return embeddec_doc"
   ]
  },
  {
   "cell_type": "code",
   "execution_count": 68,
   "metadata": {},
   "outputs": [
    {
     "name": "stdout",
     "output_type": "stream",
     "text": [
      "(16000, 2)\n",
      "(16000, 2)\n",
      "(2000, 2)\n",
      "(2000, 2)\n",
      "(2000, 2)\n",
      "(2000, 2)\n"
     ]
    }
   ],
   "source": [
    "x_train = text_prepare(train_data, \"Comment\")\n",
    "x_validate = text_prepare(validation_data, \"Comment\")\n",
    "x_test = text_prepare(test_data, \"Comment\")"
   ]
  },
  {
   "cell_type": "code",
   "execution_count": 69,
   "metadata": {},
   "outputs": [],
   "source": [
    "y_train=train_data[\"Emotion\"]\n",
    "y_validate=validation_data[\"Emotion\"]\n",
    "y_test=test_data[\"Emotion\"]"
   ]
  },
  {
   "cell_type": "code",
   "execution_count": 70,
   "metadata": {},
   "outputs": [],
   "source": [
    "enc = OneHotEncoder()\n",
    "y_train = np.array(y_train)\n",
    "y_train = enc.fit_transform(y_train.reshape(-1,1)).toarray() # Преобразование меток классов в бинарные векторы с использованием OneHotEncoder \n",
    "                                                             # Для использования меток классов в нейронной сети\n",
    "                                                             # Каждая строка матрицы представляет класс, а каждый столбец - принадлежность к соответствующему классу \n",
    "                                                             \n",
    "y_test = np.array(y_test)\n",
    "y_validate = np.array(y_validate)\n",
    "\n",
    "y_test = enc.fit_transform(y_test.reshape(-1,1)).toarray()\n",
    "y_validate = enc.fit_transform(y_validate.reshape(-1,1)).toarray() "
   ]
  },
  {
   "cell_type": "code",
   "execution_count": 77,
   "metadata": {},
   "outputs": [],
   "source": [
    "from keras.metrics import Precision, Recall\n",
    "\n",
    "# optimizer_ = \"Adam\"\n",
    "optimizer_ = keras.optimizers.RMSprop(learning_rate=0.001)\n",
    "loss_ = \"categorical_crossentropy\"\n",
    "epochs_ = 50\n",
    "batch_size_ = 32\n",
    "metrics_ = [Precision(), Recall(), \"accuracy\"]"
   ]
  },
  {
   "cell_type": "code",
   "execution_count": 78,
   "metadata": {},
   "outputs": [
    {
     "name": "stdout",
     "output_type": "stream",
     "text": [
      "Model: \"sequential_8\"\n",
      "_________________________________________________________________\n",
      " Layer (type)                Output Shape              Param #   \n",
      "=================================================================\n",
      " embedding_8 (Embedding)     (None, 150, 150)          1500000   \n",
      "                                                                 \n",
      " dropout_24 (Dropout)        (None, 150, 150)          0         \n",
      "                                                                 \n",
      " lstm_8 (LSTM)               (None, 128)               142848    \n",
      "                                                                 \n",
      " dropout_25 (Dropout)        (None, 128)               0         \n",
      "                                                                 \n",
      " dense_16 (Dense)            (None, 64)                8256      \n",
      "                                                                 \n",
      " dropout_26 (Dropout)        (None, 64)                0         \n",
      "                                                                 \n",
      " dense_17 (Dense)            (None, 6)                 390       \n",
      "                                                                 \n",
      "=================================================================\n",
      "Total params: 1651494 (6.30 MB)\n",
      "Trainable params: 1651494 (6.30 MB)\n",
      "Non-trainable params: 0 (0.00 Byte)\n",
      "_________________________________________________________________\n"
     ]
    }
   ],
   "source": [
    "# Рекуррентная нейронная сеть \n",
    "model = Sequential()\n",
    "model.add(Embedding(input_dim=vocab_size, output_dim=150, input_length=len_sentence)) # Слой векторных представлений слов (используется для обработки естественного языка (классификации текста))\n",
    "model.add(Dropout(0.2))\n",
    "model.add(LSTM(128)) \n",
    "model.add(Dropout(0.2))\n",
    "model.add(Dense(64, activation=\"sigmoid\"))\n",
    "model.add(Dropout(0.2))\n",
    "model.add(Dense(6, activation=\"softmax\"))\n",
    "\n",
    "model.compile(optimizer=optimizer_, loss = loss_, metrics=metrics_)\n",
    "model.summary()"
   ]
  },
  {
   "cell_type": "code",
   "execution_count": 79,
   "metadata": {},
   "outputs": [
    {
     "name": "stdout",
     "output_type": "stream",
     "text": [
      "Epoch 1/50\n",
      "500/500 [==============================] - 13s 24ms/step - loss: 1.6072 - precision_4: 0.3644 - recall_4: 0.0056 - accuracy: 0.3164 - val_loss: 1.5840 - val_precision_4: 0.0000e+00 - val_recall_4: 0.0000e+00 - val_accuracy: 0.3520\n",
      "Epoch 2/50\n",
      "500/500 [==============================] - 8s 15ms/step - loss: 1.5844 - precision_4: 1.0000 - recall_4: 6.2500e-05 - accuracy: 0.3291 - val_loss: 1.5794 - val_precision_4: 0.0000e+00 - val_recall_4: 0.0000e+00 - val_accuracy: 0.3520\n",
      "Epoch 3/50\n",
      "500/500 [==============================] - 7s 14ms/step - loss: 1.4684 - precision_4: 0.6282 - recall_4: 0.1274 - accuracy: 0.4370 - val_loss: 1.2247 - val_precision_4: 0.6521 - val_recall_4: 0.4480 - val_accuracy: 0.5650\n",
      "Epoch 4/50\n",
      "500/500 [==============================] - 7s 15ms/step - loss: 1.1260 - precision_4: 0.6988 - recall_4: 0.4780 - accuracy: 0.5949 - val_loss: 0.9811 - val_precision_4: 0.8009 - val_recall_4: 0.5130 - val_accuracy: 0.6465\n",
      "Epoch 5/50\n",
      "500/500 [==============================] - 7s 15ms/step - loss: 0.8137 - precision_4: 0.8133 - recall_4: 0.5931 - accuracy: 0.7161 - val_loss: 0.6479 - val_precision_4: 0.8429 - val_recall_4: 0.7110 - val_accuracy: 0.7790\n",
      "Epoch 6/50\n",
      "500/500 [==============================] - 6s 13ms/step - loss: 0.4998 - precision_4: 0.8787 - recall_4: 0.7896 - accuracy: 0.8322 - val_loss: 0.4410 - val_precision_4: 0.8889 - val_recall_4: 0.8285 - val_accuracy: 0.8510\n",
      "Epoch 7/50\n",
      "500/500 [==============================] - 7s 13ms/step - loss: 0.3589 - precision_4: 0.9016 - recall_4: 0.8622 - accuracy: 0.8818 - val_loss: 0.3853 - val_precision_4: 0.8922 - val_recall_4: 0.8570 - val_accuracy: 0.8780\n",
      "Epoch 8/50\n",
      "500/500 [==============================] - 7s 14ms/step - loss: 0.2965 - precision_4: 0.9150 - recall_4: 0.8916 - accuracy: 0.9026 - val_loss: 0.3222 - val_precision_4: 0.8995 - val_recall_4: 0.8775 - val_accuracy: 0.8885\n",
      "Epoch 9/50\n",
      "500/500 [==============================] - 7s 13ms/step - loss: 0.2557 - precision_4: 0.9243 - recall_4: 0.9062 - accuracy: 0.9134 - val_loss: 0.3305 - val_precision_4: 0.8992 - val_recall_4: 0.8785 - val_accuracy: 0.8865\n",
      "Epoch 10/50\n",
      "500/500 [==============================] - 7s 13ms/step - loss: 0.2245 - precision_4: 0.9316 - recall_4: 0.9179 - accuracy: 0.9237 - val_loss: 0.3263 - val_precision_4: 0.8909 - val_recall_4: 0.8740 - val_accuracy: 0.8830\n",
      "Epoch 11/50\n",
      "500/500 [==============================] - 7s 14ms/step - loss: 0.1905 - precision_4: 0.9366 - recall_4: 0.9265 - accuracy: 0.9310 - val_loss: 0.3045 - val_precision_4: 0.9020 - val_recall_4: 0.8880 - val_accuracy: 0.8940\n",
      "Epoch 12/50\n",
      "500/500 [==============================] - 7s 14ms/step - loss: 0.1740 - precision_4: 0.9430 - recall_4: 0.9334 - accuracy: 0.9381 - val_loss: 0.3203 - val_precision_4: 0.8975 - val_recall_4: 0.8840 - val_accuracy: 0.8905\n",
      "Epoch 13/50\n",
      "500/500 [==============================] - 7s 14ms/step - loss: 0.1549 - precision_4: 0.9503 - recall_4: 0.9422 - accuracy: 0.9465 - val_loss: 0.3262 - val_precision_4: 0.9018 - val_recall_4: 0.8905 - val_accuracy: 0.8940\n",
      "Epoch 14/50\n",
      "500/500 [==============================] - 7s 14ms/step - loss: 0.1390 - precision_4: 0.9553 - recall_4: 0.9494 - accuracy: 0.9523 - val_loss: 0.3604 - val_precision_4: 0.8948 - val_recall_4: 0.8765 - val_accuracy: 0.8855\n",
      "Epoch 15/50\n",
      "500/500 [==============================] - 7s 13ms/step - loss: 0.1224 - precision_4: 0.9586 - recall_4: 0.9539 - accuracy: 0.9563 - val_loss: 0.3689 - val_precision_4: 0.9003 - val_recall_4: 0.8935 - val_accuracy: 0.8955\n",
      "Epoch 16/50\n",
      "500/500 [==============================] - 7s 13ms/step - loss: 0.1086 - precision_4: 0.9636 - recall_4: 0.9589 - accuracy: 0.9609 - val_loss: 0.3927 - val_precision_4: 0.8892 - val_recall_4: 0.8830 - val_accuracy: 0.8860\n",
      "Epoch 17/50\n",
      "500/500 [==============================] - 7s 13ms/step - loss: 0.1030 - precision_4: 0.9670 - recall_4: 0.9634 - accuracy: 0.9653 - val_loss: 0.3997 - val_precision_4: 0.8959 - val_recall_4: 0.8905 - val_accuracy: 0.8925\n",
      "Epoch 18/50\n",
      "500/500 [==============================] - 7s 14ms/step - loss: 0.0932 - precision_4: 0.9698 - recall_4: 0.9673 - accuracy: 0.9684 - val_loss: 0.4392 - val_precision_4: 0.8924 - val_recall_4: 0.8835 - val_accuracy: 0.8870\n",
      "Epoch 19/50\n",
      "500/500 [==============================] - 7s 14ms/step - loss: 0.0852 - precision_4: 0.9724 - recall_4: 0.9709 - accuracy: 0.9715 - val_loss: 0.4375 - val_precision_4: 0.8885 - val_recall_4: 0.8845 - val_accuracy: 0.8855\n",
      "Epoch 20/50\n",
      "500/500 [==============================] - 7s 14ms/step - loss: 0.0777 - precision_4: 0.9758 - recall_4: 0.9734 - accuracy: 0.9746 - val_loss: 0.4655 - val_precision_4: 0.8888 - val_recall_4: 0.8830 - val_accuracy: 0.8855\n",
      "Epoch 21/50\n",
      "500/500 [==============================] - 7s 13ms/step - loss: 0.0717 - precision_4: 0.9770 - recall_4: 0.9756 - accuracy: 0.9761 - val_loss: 0.4853 - val_precision_4: 0.8861 - val_recall_4: 0.8830 - val_accuracy: 0.8840\n",
      "Epoch 22/50\n",
      "500/500 [==============================] - 7s 14ms/step - loss: 0.0670 - precision_4: 0.9790 - recall_4: 0.9776 - accuracy: 0.9784 - val_loss: 0.5455 - val_precision_4: 0.8870 - val_recall_4: 0.8830 - val_accuracy: 0.8850\n",
      "Epoch 23/50\n",
      "500/500 [==============================] - 7s 14ms/step - loss: 0.0611 - precision_4: 0.9819 - recall_4: 0.9808 - accuracy: 0.9814 - val_loss: 0.5624 - val_precision_4: 0.8812 - val_recall_4: 0.8790 - val_accuracy: 0.8805\n",
      "Epoch 24/50\n",
      "500/500 [==============================] - 7s 14ms/step - loss: 0.0575 - precision_4: 0.9817 - recall_4: 0.9809 - accuracy: 0.9811 - val_loss: 0.5847 - val_precision_4: 0.8831 - val_recall_4: 0.8800 - val_accuracy: 0.8805\n",
      "Epoch 25/50\n",
      "500/500 [==============================] - 6s 13ms/step - loss: 0.0550 - precision_4: 0.9829 - recall_4: 0.9821 - accuracy: 0.9827 - val_loss: 0.5724 - val_precision_4: 0.8857 - val_recall_4: 0.8830 - val_accuracy: 0.8835\n",
      "Epoch 26/50\n",
      "500/500 [==============================] - 6s 13ms/step - loss: 0.0478 - precision_4: 0.9846 - recall_4: 0.9840 - accuracy: 0.9842 - val_loss: 0.6201 - val_precision_4: 0.8818 - val_recall_4: 0.8800 - val_accuracy: 0.8805\n",
      "Epoch 27/50\n",
      "500/500 [==============================] - 7s 13ms/step - loss: 0.0460 - precision_4: 0.9871 - recall_4: 0.9862 - accuracy: 0.9866 - val_loss: 0.6316 - val_precision_4: 0.8873 - val_recall_4: 0.8855 - val_accuracy: 0.8860\n",
      "Epoch 28/50\n",
      "500/500 [==============================] - 7s 13ms/step - loss: 0.0442 - precision_4: 0.9866 - recall_4: 0.9861 - accuracy: 0.9862 - val_loss: 0.6335 - val_precision_4: 0.8815 - val_recall_4: 0.8775 - val_accuracy: 0.8780\n",
      "Epoch 29/50\n",
      "500/500 [==============================] - 7s 13ms/step - loss: 0.0419 - precision_4: 0.9873 - recall_4: 0.9866 - accuracy: 0.9869 - val_loss: 0.6581 - val_precision_4: 0.8860 - val_recall_4: 0.8820 - val_accuracy: 0.8830\n",
      "Epoch 30/50\n",
      "500/500 [==============================] - 7s 13ms/step - loss: 0.0411 - precision_4: 0.9877 - recall_4: 0.9871 - accuracy: 0.9874 - val_loss: 0.6849 - val_precision_4: 0.8850 - val_recall_4: 0.8815 - val_accuracy: 0.8830\n",
      "Epoch 31/50\n",
      "500/500 [==============================] - 7s 13ms/step - loss: 0.0344 - precision_4: 0.9897 - recall_4: 0.9893 - accuracy: 0.9895 - val_loss: 0.6816 - val_precision_4: 0.8903 - val_recall_4: 0.8845 - val_accuracy: 0.8880\n",
      "Epoch 32/50\n",
      "500/500 [==============================] - 7s 13ms/step - loss: 0.0363 - precision_4: 0.9882 - recall_4: 0.9877 - accuracy: 0.9879 - val_loss: 0.6661 - val_precision_4: 0.8821 - val_recall_4: 0.8795 - val_accuracy: 0.8810\n",
      "Epoch 33/50\n",
      "500/500 [==============================] - 6s 12ms/step - loss: 0.0358 - precision_4: 0.9893 - recall_4: 0.9889 - accuracy: 0.9890 - val_loss: 0.7710 - val_precision_4: 0.8783 - val_recall_4: 0.8765 - val_accuracy: 0.8770\n",
      "Epoch 34/50\n",
      "500/500 [==============================] - 6s 13ms/step - loss: 0.0351 - precision_4: 0.9894 - recall_4: 0.9891 - accuracy: 0.9894 - val_loss: 0.6908 - val_precision_4: 0.8850 - val_recall_4: 0.8815 - val_accuracy: 0.8815\n",
      "Epoch 35/50\n",
      "500/500 [==============================] - 6s 13ms/step - loss: 0.0283 - precision_4: 0.9922 - recall_4: 0.9916 - accuracy: 0.9919 - val_loss: 0.7217 - val_precision_4: 0.8872 - val_recall_4: 0.8845 - val_accuracy: 0.8855\n",
      "Epoch 36/50\n",
      "500/500 [==============================] - 7s 13ms/step - loss: 0.0311 - precision_4: 0.9916 - recall_4: 0.9911 - accuracy: 0.9912 - val_loss: 0.7706 - val_precision_4: 0.8834 - val_recall_4: 0.8825 - val_accuracy: 0.8830\n",
      "Epoch 37/50\n",
      "500/500 [==============================] - 6s 13ms/step - loss: 0.0278 - precision_4: 0.9912 - recall_4: 0.9910 - accuracy: 0.9912 - val_loss: 0.7491 - val_precision_4: 0.8876 - val_recall_4: 0.8845 - val_accuracy: 0.8850\n",
      "Epoch 38/50\n",
      "500/500 [==============================] - 6s 13ms/step - loss: 0.0295 - precision_4: 0.9917 - recall_4: 0.9914 - accuracy: 0.9914 - val_loss: 0.7707 - val_precision_4: 0.8801 - val_recall_4: 0.8775 - val_accuracy: 0.8785\n",
      "Epoch 39/50\n",
      "500/500 [==============================] - 6s 13ms/step - loss: 0.0248 - precision_4: 0.9924 - recall_4: 0.9922 - accuracy: 0.9923 - val_loss: 0.8186 - val_precision_4: 0.8870 - val_recall_4: 0.8830 - val_accuracy: 0.8840\n",
      "Epoch 40/50\n",
      "500/500 [==============================] - 6s 13ms/step - loss: 0.0249 - precision_4: 0.9927 - recall_4: 0.9924 - accuracy: 0.9925 - val_loss: 0.8375 - val_precision_4: 0.8834 - val_recall_4: 0.8825 - val_accuracy: 0.8830\n",
      "Epoch 41/50\n",
      "500/500 [==============================] - 7s 13ms/step - loss: 0.0252 - precision_4: 0.9926 - recall_4: 0.9925 - accuracy: 0.9925 - val_loss: 0.7821 - val_precision_4: 0.8878 - val_recall_4: 0.8865 - val_accuracy: 0.8870\n",
      "Epoch 42/50\n",
      "500/500 [==============================] - 7s 13ms/step - loss: 0.0237 - precision_4: 0.9921 - recall_4: 0.9918 - accuracy: 0.9919 - val_loss: 0.8147 - val_precision_4: 0.8843 - val_recall_4: 0.8825 - val_accuracy: 0.8830\n",
      "Epoch 43/50\n",
      "500/500 [==============================] - 7s 13ms/step - loss: 0.0219 - precision_4: 0.9925 - recall_4: 0.9923 - accuracy: 0.9924 - val_loss: 0.8992 - val_precision_4: 0.8818 - val_recall_4: 0.8800 - val_accuracy: 0.8805\n",
      "Epoch 44/50\n",
      "500/500 [==============================] - 7s 13ms/step - loss: 0.0226 - precision_4: 0.9930 - recall_4: 0.9929 - accuracy: 0.9930 - val_loss: 0.8445 - val_precision_4: 0.8798 - val_recall_4: 0.8780 - val_accuracy: 0.8790\n",
      "Epoch 45/50\n",
      "500/500 [==============================] - 7s 13ms/step - loss: 0.0201 - precision_4: 0.9936 - recall_4: 0.9933 - accuracy: 0.9934 - val_loss: 0.8707 - val_precision_4: 0.8852 - val_recall_4: 0.8830 - val_accuracy: 0.8845\n",
      "Epoch 46/50\n",
      "500/500 [==============================] - 7s 13ms/step - loss: 0.0213 - precision_4: 0.9936 - recall_4: 0.9936 - accuracy: 0.9936 - val_loss: 0.8132 - val_precision_4: 0.8902 - val_recall_4: 0.8880 - val_accuracy: 0.8890\n",
      "Epoch 47/50\n",
      "500/500 [==============================] - 7s 13ms/step - loss: 0.0192 - precision_4: 0.9941 - recall_4: 0.9941 - accuracy: 0.9941 - val_loss: 0.7784 - val_precision_4: 0.8872 - val_recall_4: 0.8850 - val_accuracy: 0.8850\n",
      "Epoch 48/50\n",
      "500/500 [==============================] - 7s 13ms/step - loss: 0.0207 - precision_4: 0.9937 - recall_4: 0.9936 - accuracy: 0.9936 - val_loss: 0.8716 - val_precision_4: 0.8854 - val_recall_4: 0.8845 - val_accuracy: 0.8850\n",
      "Epoch 49/50\n",
      "500/500 [==============================] - 7s 13ms/step - loss: 0.0188 - precision_4: 0.9946 - recall_4: 0.9944 - accuracy: 0.9945 - val_loss: 0.9283 - val_precision_4: 0.8803 - val_recall_4: 0.8790 - val_accuracy: 0.8795\n",
      "Epoch 50/50\n",
      "500/500 [==============================] - 7s 13ms/step - loss: 0.0196 - precision_4: 0.9938 - recall_4: 0.9936 - accuracy: 0.9937 - val_loss: 0.8909 - val_precision_4: 0.8829 - val_recall_4: 0.8820 - val_accuracy: 0.8820\n"
     ]
    }
   ],
   "source": [
    "history = model.fit(x_train, y_train, epochs = epochs_, batch_size = batch_size_, validation_data=(x_validate, y_validate))"
   ]
  }
 ],
 "metadata": {
  "kernelspec": {
   "display_name": ".venv",
   "language": "python",
   "name": "python3"
  },
  "language_info": {
   "codemirror_mode": {
    "name": "ipython",
    "version": 3
   },
   "file_extension": ".py",
   "mimetype": "text/x-python",
   "name": "python",
   "nbconvert_exporter": "python",
   "pygments_lexer": "ipython3",
   "version": "3.10.12"
  }
 },
 "nbformat": 4,
 "nbformat_minor": 2
}
