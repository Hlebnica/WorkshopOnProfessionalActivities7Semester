{
 "cells": [
  {
   "cell_type": "code",
   "execution_count": 9,
   "metadata": {},
   "outputs": [],
   "source": [
    "import numpy as np\n",
    "import pandas as pd\n",
    "\n",
    "import gensim\n",
    "import nltk\n",
    "from nltk.corpus import stopwords\n",
    "import re\n",
    "import pandas as pd\n",
    "from sklearn.model_selection import train_test_split\n",
    "from keras.layers import Input, Dense\n",
    "from keras.models import Model\n",
    "from transformers import TFDistilBertModel, DistilBertTokenizer\n",
    "from sklearn.model_selection import train_test_split\n",
    "from keras.preprocessing.text import Tokenizer\n",
    "from keras.utils import pad_sequences\n",
    "from keras.models import Sequential\n",
    "from keras.layers import Embedding, GRU, Dense\n",
    "from keras.metrics import Precision, Recall\n",
    "from keras.utils import to_categorical\n",
    "\n",
    "import warnings\n",
    "warnings.filterwarnings(\"ignore\")\n"
   ]
  },
  {
   "cell_type": "code",
   "execution_count": 10,
   "metadata": {},
   "outputs": [
    {
     "data": {
      "text/html": [
       "<div>\n",
       "<style scoped>\n",
       "    .dataframe tbody tr th:only-of-type {\n",
       "        vertical-align: middle;\n",
       "    }\n",
       "\n",
       "    .dataframe tbody tr th {\n",
       "        vertical-align: top;\n",
       "    }\n",
       "\n",
       "    .dataframe thead th {\n",
       "        text-align: right;\n",
       "    }\n",
       "</style>\n",
       "<table border=\"1\" class=\"dataframe\">\n",
       "  <thead>\n",
       "    <tr style=\"text-align: right;\">\n",
       "      <th></th>\n",
       "      <th>label</th>\n",
       "      <th>text</th>\n",
       "    </tr>\n",
       "  </thead>\n",
       "  <tbody>\n",
       "    <tr>\n",
       "      <th>0</th>\n",
       "      <td>1</td>\n",
       "      <td>ounce feather bowl hummingbird opec moment ala...</td>\n",
       "    </tr>\n",
       "    <tr>\n",
       "      <th>1</th>\n",
       "      <td>1</td>\n",
       "      <td>wulvob get your medircations online qnb ikud v...</td>\n",
       "    </tr>\n",
       "    <tr>\n",
       "      <th>2</th>\n",
       "      <td>0</td>\n",
       "      <td>computer connection from cnn com wednesday es...</td>\n",
       "    </tr>\n",
       "    <tr>\n",
       "      <th>3</th>\n",
       "      <td>1</td>\n",
       "      <td>university degree obtain a prosperous future m...</td>\n",
       "    </tr>\n",
       "    <tr>\n",
       "      <th>4</th>\n",
       "      <td>0</td>\n",
       "      <td>thanks for all your answers guys i know i shou...</td>\n",
       "    </tr>\n",
       "    <tr>\n",
       "      <th>...</th>\n",
       "      <td>...</td>\n",
       "      <td>...</td>\n",
       "    </tr>\n",
       "    <tr>\n",
       "      <th>83443</th>\n",
       "      <td>0</td>\n",
       "      <td>hi given a date how do i get the last date of ...</td>\n",
       "    </tr>\n",
       "    <tr>\n",
       "      <th>83444</th>\n",
       "      <td>1</td>\n",
       "      <td>now you can order software on cd or download i...</td>\n",
       "    </tr>\n",
       "    <tr>\n",
       "      <th>83445</th>\n",
       "      <td>1</td>\n",
       "      <td>dear valued member canadianpharmacy provides a...</td>\n",
       "    </tr>\n",
       "    <tr>\n",
       "      <th>83446</th>\n",
       "      <td>0</td>\n",
       "      <td>subscribe change profile contact us long term ...</td>\n",
       "    </tr>\n",
       "    <tr>\n",
       "      <th>83447</th>\n",
       "      <td>1</td>\n",
       "      <td>get the most out of life ! viagra has helped m...</td>\n",
       "    </tr>\n",
       "  </tbody>\n",
       "</table>\n",
       "<p>83448 rows × 2 columns</p>\n",
       "</div>"
      ],
      "text/plain": [
       "       label                                               text\n",
       "0          1  ounce feather bowl hummingbird opec moment ala...\n",
       "1          1  wulvob get your medircations online qnb ikud v...\n",
       "2          0   computer connection from cnn com wednesday es...\n",
       "3          1  university degree obtain a prosperous future m...\n",
       "4          0  thanks for all your answers guys i know i shou...\n",
       "...      ...                                                ...\n",
       "83443      0  hi given a date how do i get the last date of ...\n",
       "83444      1  now you can order software on cd or download i...\n",
       "83445      1  dear valued member canadianpharmacy provides a...\n",
       "83446      0  subscribe change profile contact us long term ...\n",
       "83447      1  get the most out of life ! viagra has helped m...\n",
       "\n",
       "[83448 rows x 2 columns]"
      ]
     },
     "execution_count": 10,
     "metadata": {},
     "output_type": "execute_result"
    }
   ],
   "source": [
    "# Загрузка данных из CSV файла\n",
    "df = pd.read_csv('./combined_data.csv')\n",
    "df"
   ]
  },
  {
   "cell_type": "code",
   "execution_count": 11,
   "metadata": {},
   "outputs": [
    {
     "name": "stderr",
     "output_type": "stream",
     "text": [
      "[nltk_data] Downloading package stopwords to\n",
      "[nltk_data]     C:\\Users\\apple\\AppData\\Roaming\\nltk_data...\n",
      "[nltk_data]   Package stopwords is already up-to-date!\n"
     ]
    }
   ],
   "source": [
    "# Загрузка стоп-слов для английского языка из библиотеки NLTK\n",
    "nltk.download('stopwords')\n",
    "\n",
    "# Добавление дополнительных стоп-слов \n",
    "stop_words = stopwords.words('english')\n",
    "stop_words.extend(['escapenumber'])\n",
    "\n",
    "# Функция для предобработки текста\n",
    "def preprocess(text, join_back=True):\n",
    "    result = []\n",
    "    # Применение simple_preprocess из библиотеки gensim для токенизации текста\n",
    "    for token in gensim.utils.simple_preprocess(text):\n",
    "        # Очистка от стоп-слов\n",
    "        if (\n",
    "            token not in gensim.parsing.preprocessing.STOPWORDS and \n",
    "            token not in stop_words\n",
    "        ):\n",
    "            result.append(token)\n",
    "    # Объединение токенов обратно в строку\n",
    "    if join_back:\n",
    "        result = \" \".join(result)\n",
    "    return result\n",
    "\n",
    "\n",
    "# Применение функции preprocess к столбцу 'text' и создание нового столбца 'clean_text'\n",
    "df['clean_text']=df['text'].apply(preprocess)"
   ]
  },
  {
   "cell_type": "code",
   "execution_count": 13,
   "metadata": {},
   "outputs": [
    {
     "name": "stdout",
     "output_type": "stream",
     "text": [
      "Epoch 1/3\n",
      "2087/2087 [==============================] - 70s 33ms/step - loss: 0.0769 - precision: 0.9731 - recall: 0.9731 - accuracy: 0.9731 - val_loss: 0.0484 - val_precision: 0.9841 - val_recall: 0.9841 - val_accuracy: 0.9841\n",
      "Epoch 2/3\n",
      "2087/2087 [==============================] - 67s 32ms/step - loss: 0.0327 - precision: 0.9895 - recall: 0.9895 - accuracy: 0.9895 - val_loss: 0.0520 - val_precision: 0.9830 - val_recall: 0.9830 - val_accuracy: 0.9830\n",
      "Epoch 3/3\n",
      "2087/2087 [==============================] - 67s 32ms/step - loss: 0.0185 - precision: 0.9941 - recall: 0.9941 - accuracy: 0.9941 - val_loss: 0.0596 - val_precision: 0.9832 - val_recall: 0.9832 - val_accuracy: 0.9832\n"
     ]
    },
    {
     "data": {
      "text/plain": [
       "<keras.src.callbacks.History at 0x234117b60d0>"
      ]
     },
     "execution_count": 13,
     "metadata": {},
     "output_type": "execute_result"
    }
   ],
   "source": [
    "# Разделение данных на обучающий и тестовый наборы\n",
    "train, test = train_test_split(df, test_size=0.2)\n",
    "\n",
    "# Инициализация токенизатора с ограничением числа слов до 5000\n",
    "tokenizer = Tokenizer(num_words=5000)\n",
    "tokenizer.fit_on_texts(train['clean_text'])\n",
    "\n",
    "# Преобразование текста в последовательности чисел с использованием токенизатора\n",
    "X_train = tokenizer.texts_to_sequences(train['clean_text'])\n",
    "X_test = tokenizer.texts_to_sequences(test['clean_text'])\n",
    "\n",
    "# Выравнивание последовательностей до фиксированной длины (maxlen=100)\n",
    "X_train = pad_sequences(X_train, maxlen=100)\n",
    "X_test = pad_sequences(X_test, maxlen=100)\n",
    "\n",
    "# Преобразование меток в формат one-hot encoding\n",
    "Y_train = to_categorical(train['label'], num_classes=2)\n",
    "Y_test = to_categorical(test['label'], num_classes=2)\n",
    "\n",
    "loss_ = 'categorical_crossentropy'\n",
    "optimizer_ = 'adam'\n",
    "\n",
    "model = Sequential()\n",
    "model.add(Embedding(8000, 100, input_length=100))\n",
    "model.add(GRU(128))\n",
    "model.add(Dense(2, activation='softmax'))\n",
    "\n",
    "model.compile(loss=loss_, optimizer=optimizer_, metrics=[Precision(), Recall(), 'accuracy'])\n",
    "\n",
    "model.fit(X_train, Y_train, \n",
    "          validation_data=(X_test, Y_test),\n",
    "          epochs=3, batch_size=32)"
   ]
  },
  {
   "cell_type": "code",
   "execution_count": null,
   "metadata": {},
   "outputs": [],
   "source": []
  }
 ],
 "metadata": {
  "kernelspec": {
   "display_name": ".venv",
   "language": "python",
   "name": "python3"
  },
  "language_info": {
   "codemirror_mode": {
    "name": "ipython",
    "version": 3
   },
   "file_extension": ".py",
   "mimetype": "text/x-python",
   "name": "python",
   "nbconvert_exporter": "python",
   "pygments_lexer": "ipython3",
   "version": "3.11.2"
  }
 },
 "nbformat": 4,
 "nbformat_minor": 2
}
