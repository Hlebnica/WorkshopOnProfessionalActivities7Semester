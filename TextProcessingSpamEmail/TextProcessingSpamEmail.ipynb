{
 "cells": [
  {
   "cell_type": "code",
   "execution_count": 37,
   "metadata": {},
   "outputs": [],
   "source": [
    "import numpy as np\n",
    "import pandas as pd\n",
    "\n",
    "import gensim\n",
    "import nltk\n",
    "from nltk.corpus import stopwords\n",
    "import re\n",
    "import pandas as pd\n",
    "import tensorflow as tf\n",
    "from sklearn.model_selection import train_test_split\n",
    "from keras.layers import Input, Dense\n",
    "from keras.models import Model\n",
    "from transformers import TFDistilBertModel, DistilBertTokenizer\n",
    "from sklearn.model_selection import train_test_split\n",
    "from keras.preprocessing.text import Tokenizer\n",
    "from keras.utils import pad_sequences\n",
    "from keras.models import Sequential\n",
    "from keras.layers import Embedding, GRU, Dense\n",
    "from keras.metrics import Precision, Recall\n",
    "from keras.utils import to_categorical\n",
    "from keras.models import load_model\n",
    "\n",
    "import warnings\n",
    "warnings.filterwarnings(\"ignore\")\n"
   ]
  },
  {
   "cell_type": "code",
   "execution_count": 38,
   "metadata": {},
   "outputs": [
    {
     "data": {
      "text/html": [
       "<div>\n",
       "<style scoped>\n",
       "    .dataframe tbody tr th:only-of-type {\n",
       "        vertical-align: middle;\n",
       "    }\n",
       "\n",
       "    .dataframe tbody tr th {\n",
       "        vertical-align: top;\n",
       "    }\n",
       "\n",
       "    .dataframe thead th {\n",
       "        text-align: right;\n",
       "    }\n",
       "</style>\n",
       "<table border=\"1\" class=\"dataframe\">\n",
       "  <thead>\n",
       "    <tr style=\"text-align: right;\">\n",
       "      <th></th>\n",
       "      <th>label</th>\n",
       "      <th>text</th>\n",
       "    </tr>\n",
       "  </thead>\n",
       "  <tbody>\n",
       "    <tr>\n",
       "      <th>0</th>\n",
       "      <td>1</td>\n",
       "      <td>ounce feather bowl hummingbird opec moment ala...</td>\n",
       "    </tr>\n",
       "    <tr>\n",
       "      <th>1</th>\n",
       "      <td>1</td>\n",
       "      <td>wulvob get your medircations online qnb ikud v...</td>\n",
       "    </tr>\n",
       "    <tr>\n",
       "      <th>2</th>\n",
       "      <td>0</td>\n",
       "      <td>computer connection from cnn com wednesday es...</td>\n",
       "    </tr>\n",
       "    <tr>\n",
       "      <th>3</th>\n",
       "      <td>1</td>\n",
       "      <td>university degree obtain a prosperous future m...</td>\n",
       "    </tr>\n",
       "    <tr>\n",
       "      <th>4</th>\n",
       "      <td>0</td>\n",
       "      <td>thanks for all your answers guys i know i shou...</td>\n",
       "    </tr>\n",
       "    <tr>\n",
       "      <th>...</th>\n",
       "      <td>...</td>\n",
       "      <td>...</td>\n",
       "    </tr>\n",
       "    <tr>\n",
       "      <th>83443</th>\n",
       "      <td>0</td>\n",
       "      <td>hi given a date how do i get the last date of ...</td>\n",
       "    </tr>\n",
       "    <tr>\n",
       "      <th>83444</th>\n",
       "      <td>1</td>\n",
       "      <td>now you can order software on cd or download i...</td>\n",
       "    </tr>\n",
       "    <tr>\n",
       "      <th>83445</th>\n",
       "      <td>1</td>\n",
       "      <td>dear valued member canadianpharmacy provides a...</td>\n",
       "    </tr>\n",
       "    <tr>\n",
       "      <th>83446</th>\n",
       "      <td>0</td>\n",
       "      <td>subscribe change profile contact us long term ...</td>\n",
       "    </tr>\n",
       "    <tr>\n",
       "      <th>83447</th>\n",
       "      <td>1</td>\n",
       "      <td>get the most out of life ! viagra has helped m...</td>\n",
       "    </tr>\n",
       "  </tbody>\n",
       "</table>\n",
       "<p>83448 rows × 2 columns</p>\n",
       "</div>"
      ],
      "text/plain": [
       "       label                                               text\n",
       "0          1  ounce feather bowl hummingbird opec moment ala...\n",
       "1          1  wulvob get your medircations online qnb ikud v...\n",
       "2          0   computer connection from cnn com wednesday es...\n",
       "3          1  university degree obtain a prosperous future m...\n",
       "4          0  thanks for all your answers guys i know i shou...\n",
       "...      ...                                                ...\n",
       "83443      0  hi given a date how do i get the last date of ...\n",
       "83444      1  now you can order software on cd or download i...\n",
       "83445      1  dear valued member canadianpharmacy provides a...\n",
       "83446      0  subscribe change profile contact us long term ...\n",
       "83447      1  get the most out of life ! viagra has helped m...\n",
       "\n",
       "[83448 rows x 2 columns]"
      ]
     },
     "execution_count": 38,
     "metadata": {},
     "output_type": "execute_result"
    }
   ],
   "source": [
    "# Загрузка данных из CSV файла\n",
    "df = pd.read_csv('./combined_data.csv')\n",
    "df"
   ]
  },
  {
   "cell_type": "code",
   "execution_count": 39,
   "metadata": {},
   "outputs": [
    {
     "name": "stderr",
     "output_type": "stream",
     "text": [
      "[nltk_data] Downloading package stopwords to\n",
      "[nltk_data]     C:\\Users\\apple\\AppData\\Roaming\\nltk_data...\n",
      "[nltk_data]   Package stopwords is already up-to-date!\n"
     ]
    }
   ],
   "source": [
    "# Загрузка стоп-слов для английского языка из библиотеки NLTK\n",
    "nltk.download('stopwords')\n",
    "\n",
    "# Добавление дополнительных стоп-слов \n",
    "stop_words = stopwords.words('english')\n",
    "stop_words.extend(['escapenumber'])\n",
    "\n",
    "# Функция для предобработки текста (Очистка от малоинформативных слов, которые редко встречаются)\n",
    "def preprocess(text, join_back=True):\n",
    "    result = []\n",
    "    # Применение simple_preprocess из библиотеки gensim для токенизации текста\n",
    "    for token in gensim.utils.simple_preprocess(text):\n",
    "        # Очистка от стоп-слов\n",
    "        if (\n",
    "            token not in gensim.parsing.preprocessing.STOPWORDS and \n",
    "            token not in stop_words\n",
    "        ):\n",
    "            result.append(token)\n",
    "    # Объединение токенов обратно в строку\n",
    "    if join_back:\n",
    "        result = \" \".join(result)\n",
    "    return result\n",
    "\n",
    "\n",
    "# Применение функции preprocess к столбцу 'text' и создание нового столбца 'clean_text'\n",
    "df['clean_text']=df['text'].apply(preprocess)"
   ]
  },
  {
   "cell_type": "code",
   "execution_count": 40,
   "metadata": {},
   "outputs": [],
   "source": [
    "# Разделение данных на обучающий и тестовый наборы\n",
    "train, test = train_test_split(df, test_size=0.2)\n",
    "\n",
    "# Инициализация токенизатора с ограничением числа слов до 5000\n",
    "tokenizer = Tokenizer(num_words=5000)\n",
    "tokenizer.fit_on_texts(train['clean_text'])\n",
    "\n",
    "# Преобразование текста в последовательности чисел с использованием токенизатора\n",
    "X_train = tokenizer.texts_to_sequences(train['clean_text'])\n",
    "X_test = tokenizer.texts_to_sequences(test['clean_text'])\n",
    "\n",
    "# Выравнивание последовательностей до фиксированной длины (maxlen=100)\n",
    "X_train = pad_sequences(X_train, maxlen=100)\n",
    "X_test = pad_sequences(X_test, maxlen=100)\n",
    "\n",
    "# Преобразование меток в формат one-hot encoding\n",
    "Y_train = to_categorical(train['label'], num_classes=2)\n",
    "Y_test = to_categorical(test['label'], num_classes=2)"
   ]
  },
  {
   "cell_type": "code",
   "execution_count": 43,
   "metadata": {},
   "outputs": [
    {
     "name": "stdout",
     "output_type": "stream",
     "text": [
      "Epoch 1/5\n",
      "1044/1044 [==============================] - 48s 45ms/step - loss: 0.0940 - precision_6: 0.9665 - recall_6: 0.9665 - accuracy: 0.9665 - val_loss: 0.0524 - val_precision_6: 0.9841 - val_recall_6: 0.9841 - val_accuracy: 0.9841\n",
      "Epoch 2/5\n",
      "1044/1044 [==============================] - 48s 46ms/step - loss: 0.0403 - precision_6: 0.9872 - recall_6: 0.9872 - accuracy: 0.9872 - val_loss: 0.0463 - val_precision_6: 0.9851 - val_recall_6: 0.9851 - val_accuracy: 0.9851\n",
      "Epoch 3/5\n",
      "1044/1044 [==============================] - 48s 46ms/step - loss: 0.0230 - precision_6: 0.9927 - recall_6: 0.9927 - accuracy: 0.9927 - val_loss: 0.0478 - val_precision_6: 0.9862 - val_recall_6: 0.9862 - val_accuracy: 0.9862\n",
      "Epoch 4/5\n",
      "1044/1044 [==============================] - 48s 46ms/step - loss: 0.0163 - precision_6: 0.9947 - recall_6: 0.9947 - accuracy: 0.9947 - val_loss: 0.0553 - val_precision_6: 0.9850 - val_recall_6: 0.9850 - val_accuracy: 0.9850\n",
      "Epoch 5/5\n",
      "1044/1044 [==============================] - 49s 47ms/step - loss: 0.0118 - precision_6: 0.9960 - recall_6: 0.9960 - accuracy: 0.9960 - val_loss: 0.0627 - val_precision_6: 0.9839 - val_recall_6: 0.9839 - val_accuracy: 0.9839\n"
     ]
    },
    {
     "data": {
      "text/plain": [
       "<keras.src.callbacks.History at 0x2d72dc32090>"
      ]
     },
     "execution_count": 43,
     "metadata": {},
     "output_type": "execute_result"
    }
   ],
   "source": [
    "epochs_ = 5\n",
    "batch_size_ = 64\n",
    "# loss_ = 'categorical_crossentropy'\n",
    "loss_ = 'binary_crossentropy'\n",
    "# loss_ = 'sparse_categorical_crossentropy'\n",
    "optimizer_ = 'adam'\n",
    "# optimizer_ = tf.keras.optimizers.SGD(learning_rate=0.01)\n",
    "# optimizer_ = tf.keras.optimizers.Nadam(learning_rate=0.001)\n",
    "# optimizer_ = tf.keras.optimizers.RMSprop(learning_rate=0.001)\n",
    "\n",
    "model = Sequential()\n",
    "# Cлой Embedding, который используется для преобразования целых чисел (индексов слов) в векторы фиксированной размерности\n",
    "# 8000 - размер словаря (количество уникальных слов), 100 - размерность векторов, input_length=100 - длина входных последовательностей\n",
    "model.add(Embedding(8000, 100, input_length=100))\n",
    "# Рекурентный слой\n",
    "model.add(GRU(128))\n",
    "# Выходной слой с 2 классами\n",
    "model.add(Dense(2, activation='softmax'))\n",
    "\n",
    "model.compile(loss=loss_, optimizer=optimizer_, metrics=[Precision(), Recall(), 'accuracy'])\n",
    "\n",
    "model.fit(X_train, Y_train, \n",
    "          validation_data=(X_test, Y_test),\n",
    "          epochs=epochs_, batch_size=batch_size_)"
   ]
  },
  {
   "cell_type": "code",
   "execution_count": null,
   "metadata": {},
   "outputs": [],
   "source": [
    "model.save('trained_model.h5')"
   ]
  },
  {
   "cell_type": "code",
   "execution_count": null,
   "metadata": {},
   "outputs": [
    {
     "name": "stdout",
     "output_type": "stream",
     "text": [
      "1/1 [==============================] - 0s 273ms/step\n",
      "Пример № 1: Предсказанный класс - Спам  |  Проценты принадлежности к классам - [0.22153178 0.77846825]\n",
      "Пример № 2: Предсказанный класс - Спам  |  Проценты принадлежности к классам - [0.45929033 0.5407096 ]\n"
     ]
    }
   ],
   "source": [
    "loaded_model = load_model('trained_model.h5')\n",
    "\n",
    "# Пример сообщений для проверки обученной модели\n",
    "new_data = [\n",
    "    \"\"\" Subject: Get Rich Quick with Our Exclusive Investment Opportunity!\n",
    "\n",
    "        Dear [Your Name],\n",
    "\n",
    "        Congratulations! You've been selected for a once-in-a-lifetime investment opportunity that guarantees huge returns. Our secret system will make you rich in no time! Just click the link below to get started.\n",
    "\n",
    "        [Spammy Link]\n",
    "\n",
    "        Best Regards,\n",
    "        Investment Master\n",
    "    \"\"\",\n",
    "    \"\"\" \n",
    "    Subject: Follow-Up on Our Recent Meeting\n",
    "\n",
    "        Hi [Your Name],\n",
    "\n",
    "        I hope this email finds you well. It was a pleasure meeting you last week. I wanted to follow up on our discussion about the upcoming project. Attached, you'll find the detailed project plan we talked about.\n",
    "\n",
    "        Please review it at your earliest convenience, and let me know if you have any questions or concerns. I'm looking forward to our continued collaboration.\n",
    "\n",
    "        Best Regards,\n",
    "        [Sender's Full Name]\n",
    "\n",
    "    \"\"\",\n",
    "   \n",
    "]\n",
    "\n",
    "# Предобработка новых данных\n",
    "preprocessed_new_data = [preprocess(text) for text in new_data]\n",
    "X_new = tokenizer.texts_to_sequences(preprocessed_new_data)\n",
    "X_new = pad_sequences(X_new, maxlen=100)\n",
    "\n",
    "# Предсказание меток классов для новых данных с использованием загруженной модели\n",
    "predictions = loaded_model.predict(X_new)\n",
    "\n",
    "# Вывод результатов предсказания\n",
    "for i, prediction in enumerate(predictions):\n",
    "    class_label = \"Спам\" if prediction[1] > prediction[0] else \"Не спам\"\n",
    "    print(f\"Пример № {i+1}: Предсказанный класс - {class_label}  |  Проценты принадлежности к классам - {prediction}\")\n"
   ]
  }
 ],
 "metadata": {
  "kernelspec": {
   "display_name": ".venv",
   "language": "python",
   "name": "python3"
  },
  "language_info": {
   "codemirror_mode": {
    "name": "ipython",
    "version": 3
   },
   "file_extension": ".py",
   "mimetype": "text/x-python",
   "name": "python",
   "nbconvert_exporter": "python",
   "pygments_lexer": "ipython3",
   "version": "3.11.2"
  }
 },
 "nbformat": 4,
 "nbformat_minor": 2
}
