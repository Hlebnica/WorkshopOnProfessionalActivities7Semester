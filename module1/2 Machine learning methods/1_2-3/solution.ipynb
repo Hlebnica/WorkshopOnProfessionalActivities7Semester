{
 "cells": [
  {
   "cell_type": "code",
   "execution_count": 99,
   "metadata": {},
   "outputs": [],
   "source": [
    "import pandas as pd\n",
    "import seaborn as sns\n",
    "import matplotlib.pyplot as plt\n",
    "from sklearn.model_selection import train_test_split\n",
    "from sklearn.linear_model import LinearRegression\n",
    "from sklearn.metrics import mean_absolute_error, mean_squared_error, r2_score"
   ]
  },
  {
   "cell_type": "markdown",
   "metadata": {},
   "source": [
    "# Загрузка данных"
   ]
  },
  {
   "cell_type": "code",
   "execution_count": 100,
   "metadata": {},
   "outputs": [
    {
     "name": "stdout",
     "output_type": "stream",
     "text": [
      "Train dataset shape: (17010, 82)\n",
      "Train_formula dataset shape: (17010, 88)\n",
      "Test dataset shape: (4253, 81)\n",
      "Test_formula dataset shape: (4253, 87)\n"
     ]
    }
   ],
   "source": [
    "# Считываем тренировочные данные\n",
    "train = pd.read_csv(\"train.csv\")\n",
    "formula_train = pd.read_csv(\"formula_train.csv\")\n",
    "\n",
    "print(f\"Train dataset shape: {train.shape}\")\n",
    "print(f\"Train_formula dataset shape: {formula_train.shape}\")\n",
    "\n",
    "# Считываем тестовые данные\n",
    "test = pd.read_csv(\"test.csv\")\n",
    "formula_test = pd.read_csv(\"formula_test.csv\")\n",
    "\n",
    "print(f\"Test dataset shape: {test.shape}\")\n",
    "print(f\"Test_formula dataset shape: {formula_test.shape}\")"
   ]
  },
  {
   "cell_type": "markdown",
   "metadata": {},
   "source": [
    "# Формирование датасета для обучения"
   ]
  },
  {
   "cell_type": "code",
   "execution_count": 101,
   "metadata": {},
   "outputs": [
    {
     "name": "stdout",
     "output_type": "stream",
     "text": [
      "Full Train dataset shape: (17010, 168)\n"
     ]
    }
   ],
   "source": [
    "formula_train = formula_train.drop(columns=['critical_temp'])\n",
    "\n",
    "train_full = pd.concat([train, formula_train], axis=1)\n",
    "\n",
    "# Удалим из данных ненужную колонку 'material'\n",
    "train_full.drop(columns=['material'], inplace=True)\n",
    "\n",
    "print(f\"Full Train dataset shape: {train_full.shape}\")"
   ]
  },
  {
   "cell_type": "code",
   "execution_count": 102,
   "metadata": {},
   "outputs": [
    {
     "name": "stdout",
     "output_type": "stream",
     "text": [
      "Features shape: (17010, 167)\n",
      "Target shape: (17010,)\n"
     ]
    }
   ],
   "source": [
    "X = train_full.drop(columns=['critical_temp'])\n",
    "y = train_full['critical_temp']\n",
    "\n",
    "print(f\"Features shape: {X.shape}\")\n",
    "print(f\"Target shape: {y.shape}\")"
   ]
  },
  {
   "cell_type": "code",
   "execution_count": 103,
   "metadata": {},
   "outputs": [
    {
     "name": "stdout",
     "output_type": "stream",
     "text": [
      "Features shape: (17010, 167)\n",
      "Target shape: (17010,)\n"
     ]
    }
   ],
   "source": [
    "X = train_full.drop(columns=['critical_temp'])\n",
    "y = train_full['critical_temp']\n",
    "\n",
    "print(f\"Features shape: {X.shape}\")\n",
    "print(f\"Target shape: {y.shape}\")"
   ]
  },
  {
   "cell_type": "code",
   "execution_count": 104,
   "metadata": {},
   "outputs": [
    {
     "name": "stdout",
     "output_type": "stream",
     "text": [
      "Full Test dataset shape: (4253, 167)\n"
     ]
    }
   ],
   "source": [
    "test_full = pd.concat([test, formula_test], axis=1)\n",
    "\n",
    "# Удалим из данных ненужную колонку 'material'\n",
    "test_full.drop(columns=['material'], inplace=True)\n",
    "\n",
    "print(f\"Full Test dataset shape: {test_full.shape}\")"
   ]
  },
  {
   "cell_type": "code",
   "execution_count": 105,
   "metadata": {},
   "outputs": [
    {
     "name": "stdout",
     "output_type": "stream",
     "text": [
      "Train dataset size: (11907, 167), (11907,)\n",
      "Train dataset size: (5103, 167), (5103,)\n"
     ]
    }
   ],
   "source": [
    "# Разделение данных на dataframe для обучения и тестирования\n",
    "X_train, X_test, y_train, y_test = train_test_split(X, y, test_size=0.3)\n",
    "\n",
    "print(f'Train dataset size: {X_train.shape}, {y_train.shape}')\n",
    "print(f'Train dataset size: {X_test.shape}, {y_test.shape}')"
   ]
  },
  {
   "cell_type": "markdown",
   "metadata": {},
   "source": [
    "# Обучение модели"
   ]
  },
  {
   "cell_type": "code",
   "execution_count": 106,
   "metadata": {},
   "outputs": [
    {
     "data": {
      "text/html": [
       "<style>#sk-container-id-7 {color: black;}#sk-container-id-7 pre{padding: 0;}#sk-container-id-7 div.sk-toggleable {background-color: white;}#sk-container-id-7 label.sk-toggleable__label {cursor: pointer;display: block;width: 100%;margin-bottom: 0;padding: 0.3em;box-sizing: border-box;text-align: center;}#sk-container-id-7 label.sk-toggleable__label-arrow:before {content: \"▸\";float: left;margin-right: 0.25em;color: #696969;}#sk-container-id-7 label.sk-toggleable__label-arrow:hover:before {color: black;}#sk-container-id-7 div.sk-estimator:hover label.sk-toggleable__label-arrow:before {color: black;}#sk-container-id-7 div.sk-toggleable__content {max-height: 0;max-width: 0;overflow: hidden;text-align: left;background-color: #f0f8ff;}#sk-container-id-7 div.sk-toggleable__content pre {margin: 0.2em;color: black;border-radius: 0.25em;background-color: #f0f8ff;}#sk-container-id-7 input.sk-toggleable__control:checked~div.sk-toggleable__content {max-height: 200px;max-width: 100%;overflow: auto;}#sk-container-id-7 input.sk-toggleable__control:checked~label.sk-toggleable__label-arrow:before {content: \"▾\";}#sk-container-id-7 div.sk-estimator input.sk-toggleable__control:checked~label.sk-toggleable__label {background-color: #d4ebff;}#sk-container-id-7 div.sk-label input.sk-toggleable__control:checked~label.sk-toggleable__label {background-color: #d4ebff;}#sk-container-id-7 input.sk-hidden--visually {border: 0;clip: rect(1px 1px 1px 1px);clip: rect(1px, 1px, 1px, 1px);height: 1px;margin: -1px;overflow: hidden;padding: 0;position: absolute;width: 1px;}#sk-container-id-7 div.sk-estimator {font-family: monospace;background-color: #f0f8ff;border: 1px dotted black;border-radius: 0.25em;box-sizing: border-box;margin-bottom: 0.5em;}#sk-container-id-7 div.sk-estimator:hover {background-color: #d4ebff;}#sk-container-id-7 div.sk-parallel-item::after {content: \"\";width: 100%;border-bottom: 1px solid gray;flex-grow: 1;}#sk-container-id-7 div.sk-label:hover label.sk-toggleable__label {background-color: #d4ebff;}#sk-container-id-7 div.sk-serial::before {content: \"\";position: absolute;border-left: 1px solid gray;box-sizing: border-box;top: 0;bottom: 0;left: 50%;z-index: 0;}#sk-container-id-7 div.sk-serial {display: flex;flex-direction: column;align-items: center;background-color: white;padding-right: 0.2em;padding-left: 0.2em;position: relative;}#sk-container-id-7 div.sk-item {position: relative;z-index: 1;}#sk-container-id-7 div.sk-parallel {display: flex;align-items: stretch;justify-content: center;background-color: white;position: relative;}#sk-container-id-7 div.sk-item::before, #sk-container-id-7 div.sk-parallel-item::before {content: \"\";position: absolute;border-left: 1px solid gray;box-sizing: border-box;top: 0;bottom: 0;left: 50%;z-index: -1;}#sk-container-id-7 div.sk-parallel-item {display: flex;flex-direction: column;z-index: 1;position: relative;background-color: white;}#sk-container-id-7 div.sk-parallel-item:first-child::after {align-self: flex-end;width: 50%;}#sk-container-id-7 div.sk-parallel-item:last-child::after {align-self: flex-start;width: 50%;}#sk-container-id-7 div.sk-parallel-item:only-child::after {width: 0;}#sk-container-id-7 div.sk-dashed-wrapped {border: 1px dashed gray;margin: 0 0.4em 0.5em 0.4em;box-sizing: border-box;padding-bottom: 0.4em;background-color: white;}#sk-container-id-7 div.sk-label label {font-family: monospace;font-weight: bold;display: inline-block;line-height: 1.2em;}#sk-container-id-7 div.sk-label-container {text-align: center;}#sk-container-id-7 div.sk-container {/* jupyter's `normalize.less` sets `[hidden] { display: none; }` but bootstrap.min.css set `[hidden] { display: none !important; }` so we also need the `!important` here to be able to override the default hidden behavior on the sphinx rendered scikit-learn.org. See: https://github.com/scikit-learn/scikit-learn/issues/21755 */display: inline-block !important;position: relative;}#sk-container-id-7 div.sk-text-repr-fallback {display: none;}</style><div id=\"sk-container-id-7\" class=\"sk-top-container\"><div class=\"sk-text-repr-fallback\"><pre>GradientBoostingRegressor(max_depth=5)</pre><b>In a Jupyter environment, please rerun this cell to show the HTML representation or trust the notebook. <br />On GitHub, the HTML representation is unable to render, please try loading this page with nbviewer.org.</b></div><div class=\"sk-container\" hidden><div class=\"sk-item\"><div class=\"sk-estimator sk-toggleable\"><input class=\"sk-toggleable__control sk-hidden--visually\" id=\"sk-estimator-id-9\" type=\"checkbox\" checked><label for=\"sk-estimator-id-9\" class=\"sk-toggleable__label sk-toggleable__label-arrow\">GradientBoostingRegressor</label><div class=\"sk-toggleable__content\"><pre>GradientBoostingRegressor(max_depth=5)</pre></div></div></div></div></div>"
      ],
      "text/plain": [
       "GradientBoostingRegressor(max_depth=5)"
      ]
     },
     "execution_count": 106,
     "metadata": {},
     "output_type": "execute_result"
    }
   ],
   "source": [
    "from sklearn.ensemble import GradientBoostingRegressor\n",
    "from sklearn.utils.class_weight import compute_sample_weight\n",
    "\n",
    "sample_weights = compute_sample_weight(class_weight='balanced', y=y_train)\n",
    "\n",
    "# Обучение модели\n",
    "model = GradientBoostingRegressor(n_estimators=100, max_depth=5)\n",
    "\n",
    "# Поиск межквартильного размаха\n",
    "Q1 = train_full['critical_temp'].quantile(0.25)\n",
    "Q3 = train_full['critical_temp'].quantile(0.75)\n",
    "IQR = Q3 - Q1\n",
    "\n",
    "# Определение границ выбросов\n",
    "lower_bound = Q1 - 0.25 * IQR\n",
    "upper_bound = Q3 + 0.25 * IQR\n",
    "\n",
    "# Удаление выбросов из обучающего датасета\n",
    "train_full = train_full[(train_full['critical_temp'] >= lower_bound) & (train_full['critical_temp'] <= upper_bound)]\n",
    "\n",
    "# Обновление X и y после удаления выбросов\n",
    "X = train_full.drop(columns=['critical_temp'])\n",
    "y = train_full['critical_temp']\n",
    "\n",
    "\n",
    "\n",
    "model.fit(X_train, y_train, sample_weight=sample_weights)\n"
   ]
  },
  {
   "cell_type": "code",
   "execution_count": 108,
   "metadata": {},
   "outputs": [
    {
     "ename": "AttributeError",
     "evalue": "'GradientBoostingRegressor' object has no attribute 'coef_'",
     "output_type": "error",
     "traceback": [
      "\u001b[1;31m---------------------------------------------------------------------------\u001b[0m",
      "\u001b[1;31mAttributeError\u001b[0m                            Traceback (most recent call last)",
      "\u001b[1;32mc:\\Repositories\\WorkshopOnProfessionalActivities7Semester\\module1\\2 Machine learning methods\\1_2-3\\solution.ipynb Cell 12\u001b[0m line \u001b[0;36m3\n\u001b[0;32m      <a href='vscode-notebook-cell:/c%3A/Repositories/WorkshopOnProfessionalActivities7Semester/module1/2%20Machine%20learning%20methods/1_2-3/solution.ipynb#X35sZmlsZQ%3D%3D?line=0'>1</a>\u001b[0m \u001b[39m# массив названия признаков\u001b[39;00m\n\u001b[0;32m      <a href='vscode-notebook-cell:/c%3A/Repositories/WorkshopOnProfessionalActivities7Semester/module1/2%20Machine%20learning%20methods/1_2-3/solution.ipynb#X35sZmlsZQ%3D%3D?line=1'>2</a>\u001b[0m features \u001b[39m=\u001b[39m test_full\u001b[39m.\u001b[39mcolumns\n\u001b[1;32m----> <a href='vscode-notebook-cell:/c%3A/Repositories/WorkshopOnProfessionalActivities7Semester/module1/2%20Machine%20learning%20methods/1_2-3/solution.ipynb#X35sZmlsZQ%3D%3D?line=2'>3</a>\u001b[0m coeff_df \u001b[39m=\u001b[39m pd\u001b[39m.\u001b[39mDataFrame(model\u001b[39m.\u001b[39;49mcoef_, columns\u001b[39m=\u001b[39m[\u001b[39m'\u001b[39m\u001b[39mCoefficient\u001b[39m\u001b[39m'\u001b[39m])  \n\u001b[0;32m      <a href='vscode-notebook-cell:/c%3A/Repositories/WorkshopOnProfessionalActivities7Semester/module1/2%20Machine%20learning%20methods/1_2-3/solution.ipynb#X35sZmlsZQ%3D%3D?line=3'>4</a>\u001b[0m coeff_df[\u001b[39m'\u001b[39m\u001b[39mfeatures\u001b[39m\u001b[39m'\u001b[39m] \u001b[39m=\u001b[39m features\n\u001b[0;32m      <a href='vscode-notebook-cell:/c%3A/Repositories/WorkshopOnProfessionalActivities7Semester/module1/2%20Machine%20learning%20methods/1_2-3/solution.ipynb#X35sZmlsZQ%3D%3D?line=5'>6</a>\u001b[0m coeff_df\u001b[39m.\u001b[39msort_values(by\u001b[39m=\u001b[39m\u001b[39m'\u001b[39m\u001b[39mCoefficient\u001b[39m\u001b[39m'\u001b[39m)\n",
      "\u001b[1;31mAttributeError\u001b[0m: 'GradientBoostingRegressor' object has no attribute 'coef_'"
     ]
    }
   ],
   "source": [
    "# массив названия признаков\n",
    "features = test_full.columns\n",
    "coeff_df = pd.DataFrame(model.coef_, columns=['Coefficient'])  \n",
    "coeff_df['features'] = features\n",
    "\n",
    "coeff_df.sort_values(by='Coefficient')"
   ]
  },
  {
   "cell_type": "code",
   "execution_count": 109,
   "metadata": {},
   "outputs": [
    {
     "name": "stdout",
     "output_type": "stream",
     "text": [
      "Mean Absolute Error: 6.977398691573442\n",
      "Mean Squared Error: 125.81100918836856\n",
      "R2 score: 0.8936167701487475\n"
     ]
    }
   ],
   "source": [
    "# Предсказание\n",
    "\n",
    "y_pred = model.predict(X_test)\n",
    "\n",
    "print('Mean Absolute Error:', mean_absolute_error(y_test, y_pred))\n",
    "print('Mean Squared Error:', mean_squared_error(y_test, y_pred))\n",
    "print('R2 score:', r2_score(y_test, y_pred))"
   ]
  },
  {
   "cell_type": "code",
   "execution_count": 110,
   "metadata": {},
   "outputs": [],
   "source": [
    "y_pred = pd.DataFrame(y_pred, columns=['critical_temp'])\n",
    "\n",
    "y_pred = y_pred.reset_index()\n",
    "\n",
    "y_pred.to_csv('predict.csv', index=False)"
   ]
  }
 ],
 "metadata": {
  "kernelspec": {
   "display_name": ".venv",
   "language": "python",
   "name": "python3"
  },
  "language_info": {
   "codemirror_mode": {
    "name": "ipython",
    "version": 3
   },
   "file_extension": ".py",
   "mimetype": "text/x-python",
   "name": "python",
   "nbconvert_exporter": "python",
   "pygments_lexer": "ipython3",
   "version": "3.11.2"
  },
  "orig_nbformat": 4
 },
 "nbformat": 4,
 "nbformat_minor": 2
}
